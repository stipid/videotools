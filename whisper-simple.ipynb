{
  "nbformat": 4,
  "nbformat_minor": 0,
  "metadata": {
    "colab": {
      "provenance": [],
      "gpuType": "T4",
      "authorship_tag": "ABX9TyPpk2wVcFVieGBU6Al3uenA",
      "include_colab_link": true
    },
    "kernelspec": {
      "name": "python3",
      "display_name": "Python 3"
    },
    "language_info": {
      "name": "python"
    },
    "accelerator": "GPU"
  },
  "cells": [
    {
      "cell_type": "markdown",
      "metadata": {
        "id": "view-in-github",
        "colab_type": "text"
      },
      "source": [
        "<a href=\"https://colab.research.google.com/github/stipid/videotools/blob/main/whisper-simple.ipynb\" target=\"_parent\"><img src=\"https://colab.research.google.com/assets/colab-badge.svg\" alt=\"Open In Colab\"/></a>"
      ]
    },
    {
      "cell_type": "code",
      "execution_count": 1,
      "metadata": {
        "colab": {
          "base_uri": "https://localhost:8080/"
        },
        "id": "rMc6dD9M2l4b",
        "outputId": "3c856541-0fe7-4418-c37a-5b2b827cc1cb"
      },
      "outputs": [
        {
          "output_type": "stream",
          "name": "stdout",
          "text": [
            "Requirement already satisfied: openai-whisper in /usr/local/lib/python3.11/dist-packages (20240930)\n",
            "Requirement already satisfied: more-itertools in /usr/local/lib/python3.11/dist-packages (from openai-whisper) (10.6.0)\n",
            "Requirement already satisfied: numba in /usr/local/lib/python3.11/dist-packages (from openai-whisper) (0.60.0)\n",
            "Requirement already satisfied: numpy in /usr/local/lib/python3.11/dist-packages (from openai-whisper) (1.26.4)\n",
            "Requirement already satisfied: tiktoken in /usr/local/lib/python3.11/dist-packages (from openai-whisper) (0.9.0)\n",
            "Requirement already satisfied: torch in /usr/local/lib/python3.11/dist-packages (from openai-whisper) (2.6.0+cu124)\n",
            "Requirement already satisfied: tqdm in /usr/local/lib/python3.11/dist-packages (from openai-whisper) (4.67.1)\n",
            "Requirement already satisfied: triton>=2 in /usr/local/lib/python3.11/dist-packages (from openai-whisper) (3.2.0)\n",
            "Requirement already satisfied: llvmlite<0.44,>=0.43.0dev0 in /usr/local/lib/python3.11/dist-packages (from numba->openai-whisper) (0.43.0)\n",
            "Requirement already satisfied: regex>=2022.1.18 in /usr/local/lib/python3.11/dist-packages (from tiktoken->openai-whisper) (2024.11.6)\n",
            "Requirement already satisfied: requests>=2.26.0 in /usr/local/lib/python3.11/dist-packages (from tiktoken->openai-whisper) (2.32.3)\n",
            "Requirement already satisfied: filelock in /usr/local/lib/python3.11/dist-packages (from torch->openai-whisper) (3.17.0)\n",
            "Requirement already satisfied: typing-extensions>=4.10.0 in /usr/local/lib/python3.11/dist-packages (from torch->openai-whisper) (4.12.2)\n",
            "Requirement already satisfied: networkx in /usr/local/lib/python3.11/dist-packages (from torch->openai-whisper) (3.4.2)\n",
            "Requirement already satisfied: jinja2 in /usr/local/lib/python3.11/dist-packages (from torch->openai-whisper) (3.1.6)\n",
            "Requirement already satisfied: fsspec in /usr/local/lib/python3.11/dist-packages (from torch->openai-whisper) (2024.10.0)\n",
            "Requirement already satisfied: nvidia-cuda-nvrtc-cu12==12.4.127 in /usr/local/lib/python3.11/dist-packages (from torch->openai-whisper) (12.4.127)\n",
            "Requirement already satisfied: nvidia-cuda-runtime-cu12==12.4.127 in /usr/local/lib/python3.11/dist-packages (from torch->openai-whisper) (12.4.127)\n",
            "Requirement already satisfied: nvidia-cuda-cupti-cu12==12.4.127 in /usr/local/lib/python3.11/dist-packages (from torch->openai-whisper) (12.4.127)\n",
            "Requirement already satisfied: nvidia-cudnn-cu12==9.1.0.70 in /usr/local/lib/python3.11/dist-packages (from torch->openai-whisper) (9.1.0.70)\n",
            "Requirement already satisfied: nvidia-cublas-cu12==12.4.5.8 in /usr/local/lib/python3.11/dist-packages (from torch->openai-whisper) (12.4.5.8)\n",
            "Requirement already satisfied: nvidia-cufft-cu12==11.2.1.3 in /usr/local/lib/python3.11/dist-packages (from torch->openai-whisper) (11.2.1.3)\n",
            "Requirement already satisfied: nvidia-curand-cu12==10.3.5.147 in /usr/local/lib/python3.11/dist-packages (from torch->openai-whisper) (10.3.5.147)\n",
            "Requirement already satisfied: nvidia-cusolver-cu12==11.6.1.9 in /usr/local/lib/python3.11/dist-packages (from torch->openai-whisper) (11.6.1.9)\n",
            "Requirement already satisfied: nvidia-cusparse-cu12==12.3.1.170 in /usr/local/lib/python3.11/dist-packages (from torch->openai-whisper) (12.3.1.170)\n",
            "Requirement already satisfied: nvidia-cusparselt-cu12==0.6.2 in /usr/local/lib/python3.11/dist-packages (from torch->openai-whisper) (0.6.2)\n",
            "Requirement already satisfied: nvidia-nccl-cu12==2.21.5 in /usr/local/lib/python3.11/dist-packages (from torch->openai-whisper) (2.21.5)\n",
            "Requirement already satisfied: nvidia-nvtx-cu12==12.4.127 in /usr/local/lib/python3.11/dist-packages (from torch->openai-whisper) (12.4.127)\n",
            "Requirement already satisfied: nvidia-nvjitlink-cu12==12.4.127 in /usr/local/lib/python3.11/dist-packages (from torch->openai-whisper) (12.4.127)\n",
            "Requirement already satisfied: sympy==1.13.1 in /usr/local/lib/python3.11/dist-packages (from torch->openai-whisper) (1.13.1)\n",
            "Requirement already satisfied: mpmath<1.4,>=1.1.0 in /usr/local/lib/python3.11/dist-packages (from sympy==1.13.1->torch->openai-whisper) (1.3.0)\n",
            "Requirement already satisfied: charset-normalizer<4,>=2 in /usr/local/lib/python3.11/dist-packages (from requests>=2.26.0->tiktoken->openai-whisper) (3.4.1)\n",
            "Requirement already satisfied: idna<4,>=2.5 in /usr/local/lib/python3.11/dist-packages (from requests>=2.26.0->tiktoken->openai-whisper) (3.10)\n",
            "Requirement already satisfied: urllib3<3,>=1.21.1 in /usr/local/lib/python3.11/dist-packages (from requests>=2.26.0->tiktoken->openai-whisper) (2.3.0)\n",
            "Requirement already satisfied: certifi>=2017.4.17 in /usr/local/lib/python3.11/dist-packages (from requests>=2.26.0->tiktoken->openai-whisper) (2025.1.31)\n",
            "Requirement already satisfied: MarkupSafe>=2.0 in /usr/local/lib/python3.11/dist-packages (from jinja2->torch->openai-whisper) (3.0.2)\n",
            "Reading package lists... Done\n",
            "Building dependency tree... Done\n",
            "Reading state information... Done\n",
            "ffmpeg is already the newest version (7:4.4.2-0ubuntu0.22.04.1).\n",
            "0 upgraded, 0 newly installed, 0 to remove and 29 not upgraded.\n"
          ]
        }
      ],
      "source": [
        "# !pip install -q git+https://github.com/openai/whisper.git\n",
        "! pip install -U openai-whisper\n",
        "!apt-get install ffmpeg -y"
      ]
    },
    {
      "cell_type": "code",
      "source": [
        "import json"
      ],
      "metadata": {
        "id": "Gbw1YQoB_Y3y"
      },
      "execution_count": 2,
      "outputs": []
    },
    {
      "cell_type": "code",
      "source": [
        "import whisper\n",
        "from google.colab import files\n",
        "\n",
        "# 上传音频文件\n",
        "uploaded = files.upload()\n",
        "audio_path = list(uploaded.keys())[0]  # 获取上传的文件名"
      ],
      "metadata": {
        "id": "X0BN4nRI-NH5",
        "outputId": "7f35e1b7-be70-4756-b5cc-d49737074e82",
        "colab": {
          "base_uri": "https://localhost:8080/",
          "height": 75
        }
      },
      "execution_count": 3,
      "outputs": [
        {
          "output_type": "display_data",
          "data": {
            "text/plain": [
              "<IPython.core.display.HTML object>"
            ],
            "text/html": [
              "\n",
              "     <input type=\"file\" id=\"files-576578ce-7f34-480d-94cd-a697b2619924\" name=\"files[]\" multiple disabled\n",
              "        style=\"border:none\" />\n",
              "     <output id=\"result-576578ce-7f34-480d-94cd-a697b2619924\">\n",
              "      Upload widget is only available when the cell has been executed in the\n",
              "      current browser session. Please rerun this cell to enable.\n",
              "      </output>\n",
              "      <script>// Copyright 2017 Google LLC\n",
              "//\n",
              "// Licensed under the Apache License, Version 2.0 (the \"License\");\n",
              "// you may not use this file except in compliance with the License.\n",
              "// You may obtain a copy of the License at\n",
              "//\n",
              "//      http://www.apache.org/licenses/LICENSE-2.0\n",
              "//\n",
              "// Unless required by applicable law or agreed to in writing, software\n",
              "// distributed under the License is distributed on an \"AS IS\" BASIS,\n",
              "// WITHOUT WARRANTIES OR CONDITIONS OF ANY KIND, either express or implied.\n",
              "// See the License for the specific language governing permissions and\n",
              "// limitations under the License.\n",
              "\n",
              "/**\n",
              " * @fileoverview Helpers for google.colab Python module.\n",
              " */\n",
              "(function(scope) {\n",
              "function span(text, styleAttributes = {}) {\n",
              "  const element = document.createElement('span');\n",
              "  element.textContent = text;\n",
              "  for (const key of Object.keys(styleAttributes)) {\n",
              "    element.style[key] = styleAttributes[key];\n",
              "  }\n",
              "  return element;\n",
              "}\n",
              "\n",
              "// Max number of bytes which will be uploaded at a time.\n",
              "const MAX_PAYLOAD_SIZE = 100 * 1024;\n",
              "\n",
              "function _uploadFiles(inputId, outputId) {\n",
              "  const steps = uploadFilesStep(inputId, outputId);\n",
              "  const outputElement = document.getElementById(outputId);\n",
              "  // Cache steps on the outputElement to make it available for the next call\n",
              "  // to uploadFilesContinue from Python.\n",
              "  outputElement.steps = steps;\n",
              "\n",
              "  return _uploadFilesContinue(outputId);\n",
              "}\n",
              "\n",
              "// This is roughly an async generator (not supported in the browser yet),\n",
              "// where there are multiple asynchronous steps and the Python side is going\n",
              "// to poll for completion of each step.\n",
              "// This uses a Promise to block the python side on completion of each step,\n",
              "// then passes the result of the previous step as the input to the next step.\n",
              "function _uploadFilesContinue(outputId) {\n",
              "  const outputElement = document.getElementById(outputId);\n",
              "  const steps = outputElement.steps;\n",
              "\n",
              "  const next = steps.next(outputElement.lastPromiseValue);\n",
              "  return Promise.resolve(next.value.promise).then((value) => {\n",
              "    // Cache the last promise value to make it available to the next\n",
              "    // step of the generator.\n",
              "    outputElement.lastPromiseValue = value;\n",
              "    return next.value.response;\n",
              "  });\n",
              "}\n",
              "\n",
              "/**\n",
              " * Generator function which is called between each async step of the upload\n",
              " * process.\n",
              " * @param {string} inputId Element ID of the input file picker element.\n",
              " * @param {string} outputId Element ID of the output display.\n",
              " * @return {!Iterable<!Object>} Iterable of next steps.\n",
              " */\n",
              "function* uploadFilesStep(inputId, outputId) {\n",
              "  const inputElement = document.getElementById(inputId);\n",
              "  inputElement.disabled = false;\n",
              "\n",
              "  const outputElement = document.getElementById(outputId);\n",
              "  outputElement.innerHTML = '';\n",
              "\n",
              "  const pickedPromise = new Promise((resolve) => {\n",
              "    inputElement.addEventListener('change', (e) => {\n",
              "      resolve(e.target.files);\n",
              "    });\n",
              "  });\n",
              "\n",
              "  const cancel = document.createElement('button');\n",
              "  inputElement.parentElement.appendChild(cancel);\n",
              "  cancel.textContent = 'Cancel upload';\n",
              "  const cancelPromise = new Promise((resolve) => {\n",
              "    cancel.onclick = () => {\n",
              "      resolve(null);\n",
              "    };\n",
              "  });\n",
              "\n",
              "  // Wait for the user to pick the files.\n",
              "  const files = yield {\n",
              "    promise: Promise.race([pickedPromise, cancelPromise]),\n",
              "    response: {\n",
              "      action: 'starting',\n",
              "    }\n",
              "  };\n",
              "\n",
              "  cancel.remove();\n",
              "\n",
              "  // Disable the input element since further picks are not allowed.\n",
              "  inputElement.disabled = true;\n",
              "\n",
              "  if (!files) {\n",
              "    return {\n",
              "      response: {\n",
              "        action: 'complete',\n",
              "      }\n",
              "    };\n",
              "  }\n",
              "\n",
              "  for (const file of files) {\n",
              "    const li = document.createElement('li');\n",
              "    li.append(span(file.name, {fontWeight: 'bold'}));\n",
              "    li.append(span(\n",
              "        `(${file.type || 'n/a'}) - ${file.size} bytes, ` +\n",
              "        `last modified: ${\n",
              "            file.lastModifiedDate ? file.lastModifiedDate.toLocaleDateString() :\n",
              "                                    'n/a'} - `));\n",
              "    const percent = span('0% done');\n",
              "    li.appendChild(percent);\n",
              "\n",
              "    outputElement.appendChild(li);\n",
              "\n",
              "    const fileDataPromise = new Promise((resolve) => {\n",
              "      const reader = new FileReader();\n",
              "      reader.onload = (e) => {\n",
              "        resolve(e.target.result);\n",
              "      };\n",
              "      reader.readAsArrayBuffer(file);\n",
              "    });\n",
              "    // Wait for the data to be ready.\n",
              "    let fileData = yield {\n",
              "      promise: fileDataPromise,\n",
              "      response: {\n",
              "        action: 'continue',\n",
              "      }\n",
              "    };\n",
              "\n",
              "    // Use a chunked sending to avoid message size limits. See b/62115660.\n",
              "    let position = 0;\n",
              "    do {\n",
              "      const length = Math.min(fileData.byteLength - position, MAX_PAYLOAD_SIZE);\n",
              "      const chunk = new Uint8Array(fileData, position, length);\n",
              "      position += length;\n",
              "\n",
              "      const base64 = btoa(String.fromCharCode.apply(null, chunk));\n",
              "      yield {\n",
              "        response: {\n",
              "          action: 'append',\n",
              "          file: file.name,\n",
              "          data: base64,\n",
              "        },\n",
              "      };\n",
              "\n",
              "      let percentDone = fileData.byteLength === 0 ?\n",
              "          100 :\n",
              "          Math.round((position / fileData.byteLength) * 100);\n",
              "      percent.textContent = `${percentDone}% done`;\n",
              "\n",
              "    } while (position < fileData.byteLength);\n",
              "  }\n",
              "\n",
              "  // All done.\n",
              "  yield {\n",
              "    response: {\n",
              "      action: 'complete',\n",
              "    }\n",
              "  };\n",
              "}\n",
              "\n",
              "scope.google = scope.google || {};\n",
              "scope.google.colab = scope.google.colab || {};\n",
              "scope.google.colab._files = {\n",
              "  _uploadFiles,\n",
              "  _uploadFilesContinue,\n",
              "};\n",
              "})(self);\n",
              "</script> "
            ]
          },
          "metadata": {}
        },
        {
          "output_type": "stream",
          "name": "stdout",
          "text": [
            "Saving guyongzhe.mp3 to guyongzhe (2).mp3\n"
          ]
        }
      ]
    },
    {
      "cell_type": "code",
      "source": [
        "def _trans(md):\n",
        "  # 加载 Whisper 模型（推荐 'medium' 或 'large' 以获得更高准确度）\n",
        "  import torch\n",
        "  torch.cuda.empty_cache() # clear cache first\n",
        "  torch.backends.cudnn.benchmark = True\n",
        "  torch.backends.cudnn.enabled = True\n",
        "\n",
        "  model = whisper.load_model(md)\n",
        "\n",
        "  # 进行转录，获取时间戳\n",
        "  result = model.transcribe(audio_path, word_timestamps=True)  # 获取单词级时间戳\n",
        "\n",
        "  # 打印完整的文本\n",
        "  print(\"转录文本：\", result[\"text\"])\n",
        "\n",
        "  # 打印带时间戳的内容\n",
        "  for segment in result[\"segments\"]:\n",
        "      start = segment[\"start\"]  # 片段起始时间（秒）\n",
        "      end = segment[\"end\"]      # 片段结束时间（秒）\n",
        "      text = segment[\"text\"]    # 片段文本\n",
        "      print(f\"[{start:.2f} - {end:.2f}] {text}\")\n",
        "\n",
        "  with open('segments-%s.json'%md, 'w', encoding='utf-8') as f:\n",
        "    json.dump(result[\"segments\"], f, ensure_ascii=False, indent=4)"
      ],
      "metadata": {
        "id": "qQjzOV59_2rJ"
      },
      "execution_count": 4,
      "outputs": []
    },
    {
      "cell_type": "code",
      "source": [
        "_trans(\"large-v2\")"
      ],
      "metadata": {
        "id": "_uWEvhev_ycL"
      },
      "execution_count": null,
      "outputs": []
    },
    {
      "cell_type": "code",
      "source": [
        "_trans(\"medium\")"
      ],
      "metadata": {
        "id": "Z_4iLJFSDCoq",
        "outputId": "fe037c79-9089-4deb-9ca9-5fab0649878e",
        "colab": {
          "base_uri": "https://localhost:8080/"
        }
      },
      "execution_count": 6,
      "outputs": [
        {
          "output_type": "stream",
          "name": "stderr",
          "text": [
            "100%|█████████████████████████████████████| 1.42G/1.42G [00:17<00:00, 86.8MiB/s]\n"
          ]
        },
        {
          "output_type": "stream",
          "name": "stdout",
          "text": [
            "转录文本：  You know, the bravest souls, Are wearing all their bruises, scars and wounds, They're all on show. Don't hide, no need to hide, The fishes in the mask you wear, Concealing your true side. They said go, said go and tame every monster with your light, They said go fight every single fight, like this is your last fight. Not every hero wears a golden crown, or hears the sound of glory from the crowd, Who said heroes can't be found here on the ground? Love how you stand on your own, won't bow down to anyone, Love how you keep fighting on when all hope is gone, Love how you refuse to cry, block your fate out for a night, Whistle similar, you and I both refuse to die. Go now, should I, wear in these radicals, Go down, fly, survive, to keep my dream alive, For the biggest and the valiant beat my foes, Who said heroes can't be ordinary souls? They said go, the seeds of your demise now have already been sown, Before you know, your head is hanging low, your friends land up in a row, No matter how much rain or winds may blow, still we will make us stand here all alone, Who said ordinary players aren't heroes? Love how you stand on your own, won't bow down to anyone, Love how you keep fighting on when all hope is gone, Love how you refuse to cry, block your fate out for a night, Whistle similar, you and I both refuse to die. Go now, should I, wear in these ragged clothes, Go down, fly, survive, to keep my dream alive, For the biggest and the valiant beat my foes, Who said heroes can't be ordinary souls? Love how you stand on your own, won't bow down to anyone, Love how you keep fighting on when all hope is gone, Love the glory's all your own, step into the danger zone, You can build the world you want on top of ruined stones, Go now, go now, to keep my dream alive, I'll fly, survive, give everything my life, For the biggest and the valiant beat my foes, Who said heroes can't be ordinary souls?\n",
            "[20.18 - 26.66]  You know, the bravest souls,\n",
            "[26.66 - 31.42]  Are wearing all their bruises, scars and wounds,\n",
            "[31.68 - 34.02]  They're all on show.\n",
            "[36.26 - 41.22]  Don't hide, no need to hide,\n",
            "[42.60 - 48.74]  The fishes in the mask you wear, Concealing your true side.\n",
            "[50.62 - 56.22]  They said go, said go and tame every monster with your light,\n",
            "[58.66 - 64.12]  They said go fight every single fight, like this is your last fight.\n",
            "[64.90 - 72.14]  Not every hero wears a golden crown, or hears the sound of glory from the crowd,\n",
            "[72.14 - 79.42]  Who said heroes can't be found here on the ground?\n",
            "[80.40 - 83.82]  Love how you stand on your own, won't bow down to anyone,\n",
            "[84.14 - 87.56]  Love how you keep fighting on when all hope is gone,\n",
            "[87.84 - 91.26]  Love how you refuse to cry, block your fate out for a night,\n",
            "[91.44 - 95.06]  Whistle similar, you and I both refuse to die.\n",
            "[95.16 - 98.14]  Go now, should I, wear in these radicals,\n",
            "[98.26 - 102.42]  Go down, fly, survive, to keep my dream alive,\n",
            "[102.80 - 109.64]  For the biggest and the valiant beat my foes,\n",
            "[110.06 - 116.08]  Who said heroes can't be ordinary souls?\n",
            "[128.26 - 134.56]  They said go, the seeds of your demise now have already been sown,\n",
            "[135.94 - 141.02]  Before you know, your head is hanging low, your friends land up in a row,\n",
            "[142.42 - 150.00]  No matter how much rain or winds may blow, still we will make us stand here all alone,\n",
            "[150.70 - 156.00]  Who said ordinary players aren't heroes?\n",
            "[157.56 - 161.46]  Love how you stand on your own, won't bow down to anyone,\n",
            "[161.80 - 165.14]  Love how you keep fighting on when all hope is gone,\n",
            "[165.38 - 168.92]  Love how you refuse to cry, block your fate out for a night,\n",
            "[169.14 - 172.66]  Whistle similar, you and I both refuse to die.\n",
            "[172.98 - 176.36]  Go now, should I, wear in these ragged clothes,\n",
            "[176.64 - 180.02]  Go down, fly, survive, to keep my dream alive,\n",
            "[180.02 - 187.28]  For the biggest and the valiant beat my foes,\n",
            "[187.64 - 192.02]  Who said heroes can't be ordinary souls?\n",
            "[205.92 - 209.42]  Love how you stand on your own, won't bow down to anyone,\n",
            "[209.42 - 213.28]  Love how you keep fighting on when all hope is gone,\n",
            "[213.64 - 216.86]  Love the glory's all your own, step into the danger zone,\n",
            "[217.18 - 220.68]  You can build the world you want on top of ruined stones,\n",
            "[221.10 - 224.42]  Go now, go now, to keep my dream alive,\n",
            "[224.70 - 228.06]  I'll fly, survive, give everything my life,\n",
            "[228.20 - 234.42]  For the biggest and the valiant beat my foes,\n",
            "[234.42 - 240.44]  Who said heroes can't be ordinary souls?\n"
          ]
        }
      ]
    }
  ]
}